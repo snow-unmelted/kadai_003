{
  "nbformat": 4,
  "nbformat_minor": 0,
  "metadata": {
    "colab": {
      "provenance": []
    },
    "kernelspec": {
      "name": "python3",
      "display_name": "Python 3"
    },
    "language_info": {
      "name": "python"
    }
  },
  "cells": [
    {
      "cell_type": "code",
      "execution_count": 1,
      "metadata": {
        "colab": {
          "base_uri": "https://localhost:8080/"
        },
        "id": "6yKK0D48wYrI",
        "outputId": "28dd2442-c571-488e-a57a-b567f32dcd23"
      },
      "outputs": [
        {
          "output_type": "execute_result",
          "data": {
            "text/plain": [
              "array([1, 2, 3])"
            ]
          },
          "metadata": {},
          "execution_count": 1
        }
      ],
      "source": [
        "import numpy as np\n",
        "narray = np.array([1,2,3])\n",
        "narray"
      ]
    },
    {
      "cell_type": "code",
      "source": [
        "narray.size"
      ],
      "metadata": {
        "colab": {
          "base_uri": "https://localhost:8080/"
        },
        "id": "tMFAeFcH20WM",
        "outputId": "06d6b479-911b-47ea-e309-aa443f3cb3ef"
      },
      "execution_count": null,
      "outputs": [
        {
          "output_type": "execute_result",
          "data": {
            "text/plain": [
              "3"
            ]
          },
          "metadata": {},
          "execution_count": 4
        }
      ]
    },
    {
      "cell_type": "code",
      "source": [
        "type(narray)"
      ],
      "metadata": {
        "colab": {
          "base_uri": "https://localhost:8080/"
        },
        "id": "qP3IhiUB2pmu",
        "outputId": "18be5bec-df55-4b20-a2a7-3423f9e6f9e4"
      },
      "execution_count": null,
      "outputs": [
        {
          "output_type": "execute_result",
          "data": {
            "text/plain": [
              "numpy.ndarray"
            ]
          },
          "metadata": {},
          "execution_count": 3
        }
      ]
    },
    {
      "cell_type": "code",
      "source": [
        "narray = np.ones(10)\n",
        "narray"
      ],
      "metadata": {
        "colab": {
          "base_uri": "https://localhost:8080/"
        },
        "id": "waHfvs_q21_O",
        "outputId": "e5d05241-4b39-42e8-d3d9-6c63e0c1b4a8"
      },
      "execution_count": null,
      "outputs": [
        {
          "output_type": "execute_result",
          "data": {
            "text/plain": [
              "array([1., 1., 1., 1., 1., 1., 1., 1., 1., 1.])"
            ]
          },
          "metadata": {},
          "execution_count": 6
        }
      ]
    },
    {
      "cell_type": "code",
      "source": [
        "type(narray)"
      ],
      "metadata": {
        "colab": {
          "base_uri": "https://localhost:8080/"
        },
        "id": "4-pNiXbi3Klq",
        "outputId": "fc048113-45eb-4f9d-eda5-661befaad312"
      },
      "execution_count": null,
      "outputs": [
        {
          "output_type": "execute_result",
          "data": {
            "text/plain": [
              "numpy.ndarray"
            ]
          },
          "metadata": {},
          "execution_count": 7
        }
      ]
    },
    {
      "cell_type": "code",
      "source": [
        "multi_array = np.array([[0,1,2],[3,4,5],[6,7,8]])\n",
        "multi_array"
      ],
      "metadata": {
        "colab": {
          "base_uri": "https://localhost:8080/"
        },
        "id": "JstVIR3P3UKQ",
        "outputId": "dcd97ea5-8183-430c-a35d-b5735abf45ac"
      },
      "execution_count": null,
      "outputs": [
        {
          "output_type": "execute_result",
          "data": {
            "text/plain": [
              "array([[0, 1, 2],\n",
              "       [3, 4, 5],\n",
              "       [6, 7, 8]])"
            ]
          },
          "metadata": {},
          "execution_count": 8
        }
      ]
    },
    {
      "cell_type": "code",
      "source": [
        "#ランダム一次元配列\n",
        "np.random.rand(3)"
      ],
      "metadata": {
        "colab": {
          "base_uri": "https://localhost:8080/"
        },
        "id": "FLvNLiuP53vy",
        "outputId": "8b83a48c-bcf3-4534-d1ef-933e5a8d2f53"
      },
      "execution_count": null,
      "outputs": [
        {
          "output_type": "execute_result",
          "data": {
            "text/plain": [
              "array([0.1068066 , 0.24877821, 0.59000461])"
            ]
          },
          "metadata": {},
          "execution_count": 9
        }
      ]
    },
    {
      "cell_type": "code",
      "source": [
        "np.random.rand(3,3)"
      ],
      "metadata": {
        "colab": {
          "base_uri": "https://localhost:8080/"
        },
        "id": "GljkgJGi5_bx",
        "outputId": "f7f470d3-dcf7-4cc3-ea5b-e1668d4093f4"
      },
      "execution_count": null,
      "outputs": [
        {
          "output_type": "execute_result",
          "data": {
            "text/plain": [
              "array([[0.45381633, 0.65120149, 0.03888921],\n",
              "       [0.08225371, 0.34591259, 0.53605292],\n",
              "       [0.90931125, 0.66011072, 0.28622013]])"
            ]
          },
          "metadata": {},
          "execution_count": 10
        }
      ]
    },
    {
      "cell_type": "code",
      "source": [
        "np.random.randint(1,10,(5,))"
      ],
      "metadata": {
        "colab": {
          "base_uri": "https://localhost:8080/"
        },
        "id": "upoKYhYq6aiK",
        "outputId": "af08b979-5fef-4561-d8ea-ded5ac13cb76"
      },
      "execution_count": null,
      "outputs": [
        {
          "output_type": "execute_result",
          "data": {
            "text/plain": [
              "array([3, 5, 5, 8, 7])"
            ]
          },
          "metadata": {},
          "execution_count": 15
        }
      ]
    },
    {
      "cell_type": "code",
      "source": [
        "random_multi_array = np.random.randint(1,10,(5,5))\n",
        "random_multi_array.min()"
      ],
      "metadata": {
        "colab": {
          "base_uri": "https://localhost:8080/"
        },
        "id": "KZy4wvk374ga",
        "outputId": "7a2f584c-ee3f-4712-de07-0a3a60b2ecba"
      },
      "execution_count": null,
      "outputs": [
        {
          "output_type": "execute_result",
          "data": {
            "text/plain": [
              "1"
            ]
          },
          "metadata": {},
          "execution_count": 20
        }
      ]
    },
    {
      "cell_type": "code",
      "source": [
        "random_array = np.random.randint(1,10,(10,))\n",
        "random_array[0:3]"
      ],
      "metadata": {
        "colab": {
          "base_uri": "https://localhost:8080/"
        },
        "id": "I-HnJU5I-jC1",
        "outputId": "3fa0668d-99a5-4f56-ca6c-b918297f3656"
      },
      "execution_count": null,
      "outputs": [
        {
          "output_type": "execute_result",
          "data": {
            "text/plain": [
              "array([5, 1, 6])"
            ]
          },
          "metadata": {},
          "execution_count": 27
        }
      ]
    },
    {
      "cell_type": "code",
      "source": [
        "a = np.array([1,2,3])\n",
        "b = np.array([4,5,6])\n",
        "np.concatenate((a,b),axis = 0)"
      ],
      "metadata": {
        "colab": {
          "base_uri": "https://localhost:8080/"
        },
        "id": "3r1qyIaa61ve",
        "outputId": "aa194e19-f6d2-46c9-c33b-79bd1d4bcb36"
      },
      "execution_count": 5,
      "outputs": [
        {
          "output_type": "execute_result",
          "data": {
            "text/plain": [
              "array([1, 2, 3, 4, 5, 6])"
            ]
          },
          "metadata": {},
          "execution_count": 5
        }
      ]
    },
    {
      "cell_type": "code",
      "source": [
        "a = np.array([[1,2,3]])\n",
        "b = np.array([[4,5,6]])\n",
        "np.concatenate((a,b),axis = 0)"
      ],
      "metadata": {
        "colab": {
          "base_uri": "https://localhost:8080/"
        },
        "id": "7rCnebLE8uVo",
        "outputId": "aeba41d1-c537-4246-857d-45c6f456e214"
      },
      "execution_count": 6,
      "outputs": [
        {
          "output_type": "execute_result",
          "data": {
            "text/plain": [
              "array([[1, 2, 3],\n",
              "       [4, 5, 6]])"
            ]
          },
          "metadata": {},
          "execution_count": 6
        }
      ]
    },
    {
      "cell_type": "code",
      "source": [
        "three = np.ones(3)\n",
        "three\n",
        "\n",
        "three + 3\n",
        "three + [1,0,1]"
      ],
      "metadata": {
        "colab": {
          "base_uri": "https://localhost:8080/"
        },
        "id": "1wujha2089bg",
        "outputId": "9e5c1bd1-5672-45a8-f37e-de3311cac310"
      },
      "execution_count": 10,
      "outputs": [
        {
          "output_type": "execute_result",
          "data": {
            "text/plain": [
              "array([2., 1., 2.])"
            ]
          },
          "metadata": {},
          "execution_count": 10
        }
      ]
    },
    {
      "cell_type": "code",
      "source": [
        "six_reshape = np.arange(6).reshape(2,3)\n",
        "six_reshape\n",
        "\n",
        "six_reshape + 1\n",
        "six_reshape + ([[1,1,2],[1,1,1]])"
      ],
      "metadata": {
        "colab": {
          "base_uri": "https://localhost:8080/"
        },
        "id": "-ixFFk3q-bt4",
        "outputId": "5aeb1afd-af66-49c5-9fcd-26cb196d6362"
      },
      "execution_count": 16,
      "outputs": [
        {
          "output_type": "execute_result",
          "data": {
            "text/plain": [
              "array([[1, 2, 4],\n",
              "       [4, 5, 6]])"
            ]
          },
          "metadata": {},
          "execution_count": 16
        }
      ]
    },
    {
      "cell_type": "code",
      "source": [
        "five_full = np.full(6,6)\n",
        "five_full\n",
        "\n",
        "five_full - 2"
      ],
      "metadata": {
        "colab": {
          "base_uri": "https://localhost:8080/"
        },
        "id": "To32RpIx_VGw",
        "outputId": "3a42c100-3f8a-41d3-aef3-3881399672df"
      },
      "execution_count": 23,
      "outputs": [
        {
          "output_type": "execute_result",
          "data": {
            "text/plain": [
              "array([4, 4, 4, 4, 4, 4])"
            ]
          },
          "metadata": {},
          "execution_count": 23
        }
      ]
    },
    {
      "cell_type": "code",
      "source": [
        "ten = np.arange(10).reshape(2,5)\n",
        "ten\n",
        "\n",
        "ten * 3"
      ],
      "metadata": {
        "colab": {
          "base_uri": "https://localhost:8080/"
        },
        "id": "8J7Grt8JAafW",
        "outputId": "ceca29f9-ec44-4595-b751-00551ee54518"
      },
      "execution_count": 29,
      "outputs": [
        {
          "output_type": "execute_result",
          "data": {
            "text/plain": [
              "array([[ 0,  3,  6,  9, 12],\n",
              "       [15, 18, 21, 24, 27]])"
            ]
          },
          "metadata": {},
          "execution_count": 29
        }
      ]
    },
    {
      "cell_type": "code",
      "source": [
        "div_six = np.arange(6)\n",
        "div_six\n",
        "\n",
        "div_six / 2"
      ],
      "metadata": {
        "colab": {
          "base_uri": "https://localhost:8080/"
        },
        "id": "bCKt3CPrBF1U",
        "outputId": "f013e5d5-91af-4185-ac05-fec71bafc63b"
      },
      "execution_count": 31,
      "outputs": [
        {
          "output_type": "execute_result",
          "data": {
            "text/plain": [
              "array([0. , 0.5, 1. , 1.5, 2. , 2.5])"
            ]
          },
          "metadata": {},
          "execution_count": 31
        }
      ]
    },
    {
      "cell_type": "code",
      "source": [
        "#行列同士の掛け算\n",
        "A = np.array([[4,7,2],[1,2,1]])\n",
        "B = ([[2,2,2,],[4,5,2],[9,2,1]])\n",
        "np.dot(A,B)"
      ],
      "metadata": {
        "colab": {
          "base_uri": "https://localhost:8080/"
        },
        "id": "BanRSD6tFBvT",
        "outputId": "84d5c767-1903-48b5-f471-7d2bebf0ad91"
      },
      "execution_count": 32,
      "outputs": [
        {
          "output_type": "execute_result",
          "data": {
            "text/plain": [
              "array([[54, 47, 24],\n",
              "       [19, 14,  7]])"
            ]
          },
          "metadata": {},
          "execution_count": 32
        }
      ]
    },
    {
      "cell_type": "code",
      "source": [
        "#逆行列を求めるinvメソッドをインポート\n",
        "from numpy.linalg import inv\n",
        "A = np.array([[1,1,0],[0,1,0],[0,0,1]])\n",
        "ainv = inv(A)\n",
        "ainv\n",
        "np.dot(A,ainv)"
      ],
      "metadata": {
        "colab": {
          "base_uri": "https://localhost:8080/"
        },
        "id": "7RFEE8z7_8tp",
        "outputId": "141ec251-2fa7-43b0-92fc-d400719132c4"
      },
      "execution_count": 4,
      "outputs": [
        {
          "output_type": "execute_result",
          "data": {
            "text/plain": [
              "array([[1., 0., 0.],\n",
              "       [0., 1., 0.],\n",
              "       [0., 0., 1.]])"
            ]
          },
          "metadata": {},
          "execution_count": 4
        }
      ]
    },
    {
      "cell_type": "code",
      "source": [
        "a = np.array([1,2,3])\n",
        "np.sum(a)"
      ],
      "metadata": {
        "colab": {
          "base_uri": "https://localhost:8080/"
        },
        "id": "cT60wA4SDec3",
        "outputId": "63a14729-6a8f-4de9-b7f9-b1ee09fc4b36"
      },
      "execution_count": 5,
      "outputs": [
        {
          "output_type": "execute_result",
          "data": {
            "text/plain": [
              "6"
            ]
          },
          "metadata": {},
          "execution_count": 5
        }
      ]
    },
    {
      "cell_type": "code",
      "source": [
        "a = np.array([1,2,3,4])\n",
        "np.median(a)\n",
        "np.std(a)"
      ],
      "metadata": {
        "colab": {
          "base_uri": "https://localhost:8080/"
        },
        "id": "JTrU_FTmELY8",
        "outputId": "c6c64701-5171-447a-c9cf-605b8c18be7e"
      },
      "execution_count": 7,
      "outputs": [
        {
          "output_type": "execute_result",
          "data": {
            "text/plain": [
              "1.118033988749895"
            ]
          },
          "metadata": {},
          "execution_count": 7
        }
      ]
    },
    {
      "cell_type": "code",
      "source": [
        "from PIL import Image\n",
        "import numpy as np\n",
        "\n",
        "#画像を読み込む\n",
        "im = Image.open(\"camera.jpg\")\n",
        "im = im.resize((im.width//2,im.height//2))#元の画像を縮小\n",
        "\n",
        "#PIL形式からNumPy形式に変更\n",
        "im_np = np.asarray(im)\n",
        "im_np\n",
        "\n",
        "negative_im_np = 255 - im_np\n",
        "negative_im = Image.fromarray(negative_im_np)\n",
        "negative_im"
      ],
      "metadata": {
        "colab": {
          "base_uri": "https://localhost:8080/",
          "height": 169
        },
        "id": "USVsRqt2FgGP",
        "outputId": "e13d2d59-407d-4032-9389-82a70b5e82d5"
      },
      "execution_count": 13,
      "outputs": [
        {
          "output_type": "execute_result",
          "data": {
            "text/plain": [
              "<PIL.Image.Image image mode=RGB size=200x152>"
            ],
            "image/png": "[encoded data removed]"
          },
          "metadata": {},
          "execution_count": 13
        }
      ]
    },
    {
      "cell_type": "code",
      "source": [
        "#課題\n",
        "import numpy as np\n",
        "A = np.arange(6).reshape(3,2)\n",
        "B = np.arange(8).reshape(2,4)\n",
        "prod = np.dot(A,B)\n",
        "print(prod)\n",
        "np.max(prod)"
      ],
      "metadata": {
        "colab": {
          "base_uri": "https://localhost:8080/"
        },
        "id": "ODF6J7NzKHIa",
        "outputId": "61c05c14-7ea2-4f94-cc7b-95fabcd0cfeb"
      },
      "execution_count": 30,
      "outputs": [
        {
          "output_type": "stream",
          "name": "stdout",
          "text": [
            "[[ 4  5  6  7]\n",
            " [12 17 22 27]\n",
            " [20 29 38 47]]\n"
          ]
        },
        {
          "output_type": "execute_result",
          "data": {
            "text/plain": [
              "47"
            ]
          },
          "metadata": {},
          "execution_count": 30
        }
      ]
    }
  ]
}